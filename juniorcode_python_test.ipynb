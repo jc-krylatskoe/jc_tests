{
 "cells": [
  {
   "attachments": {},
   "cell_type": "markdown",
   "id": "official-detector",
   "metadata": {},
   "source": [
    "Написать функцию **get_reversed_list**, которая принимает на вход список **list1** и выводит на экран значения списка **list1** в обратном порядке. Для решения использовать функцию range().\n",
    "\n",
    "Например, на вход подаётся **list1:**\n",
    "[10, 20, 30, 40, 50]\n",
    "\n",
    "**вывод на экран:**\n",
    "[50, 40, 30, 20, 10]"
   ]
  },
  {
   "cell_type": "code",
   "execution_count": 2,
   "id": "bronze-anxiety",
   "metadata": {},
   "outputs": [
    {
     "name": "stdout",
     "output_type": "stream",
     "text": [
      "[50, 40, 30, 20, 10]\n"
     ]
    }
   ],
   "source": [
    "def get_reversed_list(list1):\n",
    "    return None\n",
    "\n",
    "\n",
    "if __name__ == \"__main__\":\n",
    "    list1 = [10, 20, 30, 40, 50]\n",
    "\n",
    "    print(get_reversed_list(list1))"
   ]
  }
 ],
 "metadata": {
  "kernelspec": {
   "display_name": "Python 3",
   "language": "python",
   "name": "python3"
  },
  "language_info": {
   "codemirror_mode": {
    "name": "ipython",
    "version": 3
   },
   "file_extension": ".py",
   "mimetype": "text/x-python",
   "name": "python",
   "nbconvert_exporter": "python",
   "pygments_lexer": "ipython3",
   "version": "3.6.9"
  }
 },
 "nbformat": 4,
 "nbformat_minor": 5
}
