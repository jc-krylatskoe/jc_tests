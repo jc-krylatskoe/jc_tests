{
 "cells": [
  {
   "attachments": {},
   "cell_type": "markdown",
   "id": "finite-notebook",
   "metadata": {},
   "source": [
    "<img src=\"https://upload.wikimedia.org/wikipedia/commons/c/c3/Python-logo-notext.svg\"><br>\n",
    "<h1><p style=\"text-align: center;\"> ЮниорКод - вступительное тестирование по Python</p></h1>\n"
   ]
  },
  {
   "attachments": {},
   "cell_type": "markdown",
   "id": "colonial-identity",
   "metadata": {},
   "source": [
    "Ниже приведён список заданий по Python.\n",
    "Каждое задание!необходимо выполнить так, чтобы вывод программы соответствовал заданию.\n",
    "\n",
    "После того, как программы готовы, сохранить код для каждой задачи в отдельный файл и отправить файлы на [email](mailto:s.sazhin@juniorcode.ru).\n",
    "\n",
    "**Требования к названиям файлов**:\\\n",
    "Задача 1 - **task1.py**, Задача 2 - **task2.py** и т.д.\n",
    "\n",
    "<span style=\"color: red;\">Не изменяйте название функций и классов, которые даны в задании, иначе проверка выполненного задания завершится с ошибкой.</span>"
   ]
  },
  {
   "cell_type": "markdown",
   "id": "official-detector",
   "metadata": {},
   "source": [
    "## Задача 1\n",
    "\n",
    "Написать функцию **get_reversed_list**, которая принимает на вход список **list1** и выводит на экран значения списка **list1** в обратном порядке. Для решения использовать функцию range().\n",
    "\n",
    "Например:\n",
    "На вход подаётся **list1:**\n",
    "[10, 20, 30, 40, 50]\n",
    "\n",
    "**вывод на экран:**\n",
    "[50, 40, 30, 20, 10]"
   ]
  },
  {
   "cell_type": "code",
   "execution_count": null,
   "id": "bronze-anxiety",
   "metadata": {},
   "outputs": [],
   "source": [
    "def get_reversed_list(list1):\n",
    "    return None\n",
    "\n",
    "\n",
    "if __name__ == \"__main__\":\n",
    "    list1 = [10, 20, 30, 40, 50]\n",
    "\n",
    "    print(get_reversed_list(list1))"
   ]
  },
  {
   "cell_type": "markdown",
   "id": "accessory-combination",
   "metadata": {},
   "source": [
    "## Задача 2\n",
    "\n",
    "Написать метод **scoops** (шарики мороженого) для класса **IceCreamMachine** (aвтомат с мороженым).\n",
    "Метод **scoops** должен реализовывать следующий функционал:\n",
    "\n",
    "1. Возвращает все комбинации одного ингридиента (переменная ingredient) и одного топпинга (переменная topping).\n",
    "2. Если на вход не подано ингридиентов и топпингов, этот метод должен вернуть пустой список\n",
    "\n",
    "Например:\n",
    "```\n",
    "IceCreamMachine(['vanilla', 'chocolate'], [chocolate sauce]).scoops()\n",
    "```\n",
    "- должен вернуть значение:\n",
    "**[['vanilla', 'chocolate sauce'], ['chocolate', 'chocolate sauce']]**\n",
    "\n",
    "```\n",
    "IceCreamMachine([], []).scoops()\n",
    "```\n",
    "- должен вернуть значение:\n",
    "**[]**"
   ]
  },
  {
   "cell_type": "code",
   "execution_count": null,
   "id": "dietary-sound",
   "metadata": {},
   "outputs": [],
   "source": [
    "class IceCreamMachine:\n",
    "    def __init__(self, ingredients, toppings):\n",
    "        self.ingredients = ingredients\n",
    "        self.toppings = toppings\n",
    "\n",
    "    def scoops(self):\n",
    "        return None\n",
    "\n",
    "\n",
    "if __name__ == \"__main__\":\n",
    "    machine = IceCreamMachine([\"vanilla\", \"chocolate\"], [\"chocolate sauce\"])\n",
    "\n",
    "    print(machine.scoops())  # should print: [['vanilla', 'chocolate sauce'], ['chocolate', 'chocolate sauce']]\n",
    "    \n",
    "    machine = IceCreamMachine([], [])\n",
    "    \n",
    "    print(machine.scoops())  # should print: []"
   ]
  },
  {
   "cell_type": "markdown",
   "id": "athletic-neutral",
   "metadata": {},
   "source": [
    "## Задача 3\n",
    "\n",
    "Написать функцию **group_by_owners**, которая:\n",
    "- Принимает на вход словарь с парами: ключ в словаре - \"Название файла\", значение в словаре - \"Имя владельца\"\n",
    "- Возвращает словарь, в котором (в произвольном порядке) для каждого имени владельца (ключ словаря) содержится список всех названий файлов, принадлежащих ему (значение словаря).\n",
    "\n",
    "Например:\n",
    "для словаря: \n",
    "```\n",
    "{'Input.txt': 'Randy', 'Code.py': 'Stan', 'Output.txt': 'Randy'}\n",
    "```\n",
    "- функция **group_by_owners** должна вернуть:\n",
    "\n",
    "```\n",
    "{'Randy': ['Input.txt', 'Output.txt'], 'Stan': ['Code.py']}\n",
    "```"
   ]
  },
  {
   "cell_type": "code",
   "execution_count": null,
   "id": "prospective-catalyst",
   "metadata": {
    "scrolled": true
   },
   "outputs": [],
   "source": [
    "def group_by_owners(files):\n",
    "    return None\n",
    "\n",
    "\n",
    "if __name__ == \"__main__\":\n",
    "    files = {\n",
    "        'Input.txt': 'Randy',\n",
    "        'Code.py': 'Stan',\n",
    "        'Output.txt': 'Randy'\n",
    "    }\n",
    "    print(group_by_owners(files))"
   ]
  },
  {
   "cell_type": "markdown",
   "id": "simplified-tribute",
   "metadata": {},
   "source": [
    "## Задача 4\n",
    "\n",
    "Написать функцию **unique_names**, реализующий следующий функционал:\n",
    "1. На вход подаётся два списка с именами.\n",
    "2. Возвращает список, в котором содержатся имена, присутствующие в обоих или одном из списков. Каждое имя, в результирующем списке, должно встречаться только один раз.\n",
    "\n",
    "Например:\n",
    "```\n",
    "unique_names(['Ava', 'Emma', 'Olivia'], ['Olivia', 'Sophia', 'Emma'])\n",
    "```\n",
    "- функция **unique_names** должна вернуть (порядок не важен):\n",
    "```\n",
    "['Ava', 'Emma', 'Olivia', 'Sophia']\n",
    "```"
   ]
  },
  {
   "cell_type": "code",
   "execution_count": null,
   "id": "bottom-commodity",
   "metadata": {},
   "outputs": [],
   "source": [
    "def unique_names(names1, names2):\n",
    "    return None\n",
    "\n",
    "if __name__ == \"__main__\":\n",
    "    names1 = [\"Ava\", \"Emma\", \"Olivia\"]\n",
    "    names2 = [\"Olivia\", \"Sophia\", \"Emma\"]\n",
    "    print(unique_names(names1, names2))  # should print: ['Ava', 'Emma', 'Olivia', 'Sophia']"
   ]
  }
 ],
 "metadata": {
  "kernelspec": {
   "display_name": "Python 3",
   "language": "python",
   "name": "python3"
  },
  "language_info": {
   "codemirror_mode": {
    "name": "ipython",
    "version": 3
   },
   "file_extension": ".py",
   "mimetype": "text/x-python",
   "name": "python",
   "nbconvert_exporter": "python",
   "pygments_lexer": "ipython3",
   "version": "3.6.9"
  }
 },
 "nbformat": 4,
 "nbformat_minor": 5
}
